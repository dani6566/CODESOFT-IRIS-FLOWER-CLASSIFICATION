{
 "cells": [
  {
   "cell_type": "code",
   "execution_count": 1,
   "metadata": {},
   "outputs": [],
   "source": [
    "import os\n",
    "import sys\n",
    "\n",
    "sys.path.append(os.path.abspath(\"../Scripts\"))"
   ]
  },
  {
   "cell_type": "code",
   "execution_count": 2,
   "metadata": {},
   "outputs": [],
   "source": [
    "import pandas as pd\n",
    "\n",
    "#Load the iris dataset\n",
    "df = pd.read_csv(\"../Data/IRIS.csv\")"
   ]
  },
  {
   "cell_type": "code",
   "execution_count": 3,
   "metadata": {},
   "outputs": [],
   "source": [
    "from IrasFlowerClassifier import IrisClassifier\n",
    "\n",
    " # Inital the class\n",
    "classifier = IrisClassifier(df)"
   ]
  },
  {
   "cell_type": "code",
   "execution_count": 8,
   "metadata": {},
   "outputs": [
    {
     "ename": "TypeError",
     "evalue": "load_data() takes 1 positional argument but 2 were given",
     "output_type": "error",
     "traceback": [
      "\u001b[1;31m---------------------------------------------------------------------------\u001b[0m",
      "\u001b[1;31mTypeError\u001b[0m                                 Traceback (most recent call last)",
      "Cell \u001b[1;32mIn[8], line 1\u001b[0m\n\u001b[1;32m----> 1\u001b[0m \u001b[43mclassifier\u001b[49m\u001b[38;5;241;43m.\u001b[39;49m\u001b[43mload_data\u001b[49m\u001b[43m(\u001b[49m\u001b[43mdf\u001b[49m\u001b[43m)\u001b[49m  \u001b[38;5;66;03m# Step 1: Load the dataset\u001b[39;00m\n",
      "\u001b[1;31mTypeError\u001b[0m: load_data() takes 1 positional argument but 2 were given"
     ]
    }
   ],
   "source": [
    "classifier.load_data(df)  # Step 1: Load the dataset"
   ]
  },
  {
   "cell_type": "code",
   "execution_count": null,
   "metadata": {},
   "outputs": [],
   "source": [
    " # Instantiate the classifier with the file path to the dataset\n",
    "classifier = IrisClassifier(\"iris.csv\")\n",
    "\n",
    "# Step-by-step execution\n",
    "classifier.load_data()  # Step 1: Load the dataset\n",
    "classifier.visualize_data()  # Step 2: Visualize the data\n",
    "classifier.preprocess_data()  # Step 3: Preprocess the data\n",
    "classifier.train_model()  # Step 4: Train the model\n",
    "classifier.evaluate_model()  # Step 5: Evaluate the model\n",
    "\n",
    "# Step 6: Predict a new sample\n",
    "new_sample = [[5.0, 3.4, 1.5, 0.2]]  # Replace with your own data\n",
    "classifier.predict(new_sample)"
   ]
  }
 ],
 "metadata": {
  "kernelspec": {
   "display_name": "Python 3",
   "language": "python",
   "name": "python3"
  },
  "language_info": {
   "codemirror_mode": {
    "name": "ipython",
    "version": 3
   },
   "file_extension": ".py",
   "mimetype": "text/x-python",
   "name": "python",
   "nbconvert_exporter": "python",
   "pygments_lexer": "ipython3",
   "version": "3.8.0"
  }
 },
 "nbformat": 4,
 "nbformat_minor": 2
}
